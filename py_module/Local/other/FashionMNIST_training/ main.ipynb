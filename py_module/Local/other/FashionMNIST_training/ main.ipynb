{
 "cells": [
  {
   "attachments": {},
   "cell_type": "markdown",
   "metadata": {},
   "source": [
    "# Quantum Neural Network Classifiers: A Tutorial\n",
    "\n",
    "## 项目介绍\n",
    "\n",
    "该论文主要讨论了在量子神经网络的不同编码结构和编码策略在解决监督学习任务时的区别。文章对幅度编码和块编码在量子神经网络处理二分类问题时的表现进行了对比。作为测试基准，Fashion MNIST、MNIST、对称性保护拓扑态等数据集用来作为识别训练任务。本次论文复现要求：研究并理解文章内容,利用MindQuantum实现对Table 2中 对Fashion Mnist及MNIST的分类任务的结果。原文链接：https://scipost.org/SciPostPhysLectNotes.61\n",
    "\n",
    "## 复现过程\n",
    "\n",
    "### 数据预处理\n",
    "原文章主要讨论的是利用量子神经网络在二分类问题中的应用，具体任务设置为对Fashion MNIST中对靴子和T恤图片进行分类，对MNIST中的手写体“0”和“1”进行分类。初始数据为.mat格式，想要用于训练我们需要对其进行预处理"
   ]
  },
  {
   "cell_type": "code",
   "execution_count": 1,
   "metadata": {},
   "outputs": [
    {
     "name": "stderr",
     "output_type": "stream",
     "text": [
      "/tmp/ipykernel_74363/3271068640.py:8: H5pyDeprecationWarning: The default file mode will change to 'r' (read-only) in h5py 3.0. To suppress this warning, pass the mode you need to h5py.File(), or set the global default h5.get_config().default_file_mode, or set the environment variable H5PY_DEFAULT_READONLY=1. Available modes are: 'r', 'r+', 'w', 'w-'/'x', 'a'. See the docs for details.\n",
      "  dataset = h5py.File('./Dataset/FashionMNIST_1_2_wk.mat')\n"
     ]
    }
   ],
   "source": [
    "import h5py \n",
    "import scipy.io\n",
    "import numpy as np\n",
    "\n",
    "train_num = 1000\n",
    "test_num = 200\n",
    "\n",
    "dataset = h5py.File('./Dataset/FashionMNIST_1_2_wk.mat')\n",
    "train_data = np.transpose(dataset['x_train'])\n",
    "train_label = np.transpose(dataset['y_train'])\n",
    "test_data = np.transpose(dataset['x_test'])\n",
    "test_label = np.transpose(dataset['y_test'])\n",
    "\n",
    "train_pixels = np.array(train_data[:,:train_num].tolist())[:,:,0].transpose() # [:,:,0]取实部\n",
    "test_pixels = np.array(test_data[:,:test_num].tolist())[:,:,0].transpose()\n",
    "train_index = train_label[:train_num,0].astype(int) # 0-> 靴子 1->T恤\n",
    "test_index = test_label[:test_num,0].astype(int)"
   ]
  },
  {
   "attachments": {},
   "cell_type": "markdown",
   "metadata": {},
   "source": [
    "train_pixels和test_pixels分别为训练和测试用的像素数据，train_index和test_index为训练和测试标签。训练样本和测试样本大小分别为1000和200.\n",
    "\n",
    "可以通过matplotlib.pyplot对样本进行可视化"
   ]
  },
  {
   "cell_type": "code",
   "execution_count": 2,
   "metadata": {
    "tags": []
   },
   "outputs": [
    {
     "name": "stdout",
     "output_type": "stream",
     "text": [
      "前2个训练集标签为 [0 1]\n"
     ]
    },
    {
     "data": {
      "image/png": "[encoded data removed]",
      "text/plain": [
       "<Figure size 480x480 with 1 Axes>"
      ]
     },
     "metadata": {},
     "output_type": "display_data"
    },
    {
     "data": {
      "image/png": "[encoded data removed]",
      "text/plain": [
       "<Figure size 480x480 with 1 Axes>"
      ]
     },
     "metadata": {},
     "output_type": "display_data"
    }
   ],
   "source": [
    "import matplotlib.pyplot as plt\n",
    "from matplotlib import gridspec\n",
    "plt.matshow(np.reshape(train_pixels[0,:],[16,16]))\n",
    "plt.matshow(np.reshape(train_pixels[1,:],[16,16]))\n",
    "print(f'前2个训练集标签为 {train_index[:2]}')"
   ]
  },
  {
   "attachments": {},
   "cell_type": "markdown",
   "metadata": {},
   "source": [
    "目前训练数据为像素数据，不能作为输入态直接用于量子线路，需要用幅度编码将像素数据转换为线路参量数据.\n",
    "\n",
    "mindquantum提供的mindquantum.algorithm.library.amplitude_encoder编码器可以方便地实现这一过程。"
   ]
  },
  {
   "cell_type": "code",
   "execution_count": 3,
   "metadata": {},
   "outputs": [
    {
     "name": "stderr",
     "output_type": "stream",
     "text": [
      "/home/pp/.local/lib/python3.8/site-packages/mindquantum/simulator/__init__.py:17: UserWarning: Disable mqvector gpu backend due to: Malloc GPU memory failed: cudaErrorInsufficientDriver, CUDA driver version is insufficient for CUDA runtime version\n",
      "  from .available_simulator import SUPPORTED_SIMULATOR\n"
     ]
    }
   ],
   "source": [
    "from mindquantum.algorithm.library import amplitude_encoder\n",
    "def amplitude_param(pixels):\n",
    "    param_rd = []\n",
    "    _, parameterResolver = amplitude_encoder(pixels, 8)   \n",
    "    for _, param in parameterResolver.items():\n",
    "        param_rd.append(param)\n",
    "    param_rd = np.array(param_rd)\n",
    "    return param_rd\n",
    "\n",
    "# 将幅度转为编码线路参数，幅度shape(256,)，参数shape(255,)\n",
    "train_param = np.array([amplitude_param(i) for i in train_pixels ])\n",
    "test_param = np.array([amplitude_param(i) for i in test_pixels ])"
   ]
  },
  {
   "attachments": {},
   "cell_type": "markdown",
   "metadata": {},
   "source": [
    "将参数数据和标签封装ms.dataset.NumpySlicesDataset用于训练，数据预处理环节完成。\n",
    "\n",
    "该过程在main.py中Main()类的data_preporcess方法实现。"
   ]
  },
  {
   "cell_type": "code",
   "execution_count": 4,
   "metadata": {},
   "outputs": [],
   "source": [
    "import mindspore as ms\n",
    "BATCH_SIZE = 100\n",
    "train_loader = ms.dataset.NumpySlicesDataset(\n",
    "    {'features': train_param, 'labels': train_index}, shuffle=True).batch(BATCH_SIZE) \n",
    "test_loader = ms.dataset.NumpySlicesDataset(\n",
    "    {'features': test_param, 'labels': test_index}).batch(BATCH_SIZE)  "
   ]
  },
  {
   "attachments": {},
   "cell_type": "markdown",
   "metadata": {},
   "source": [
    "### 量子线路搭建\n",
    "\n",
    "要实现数据分类需要定义含参ansatz线路。本次复现论文中提供三种ansatz，每个ansatz中包括参数层和纠缠层。\n",
    "\n",
    "一层参数层和一层纠缠层构成一个复合层(block)，复合层数越多说明ansatz线路越深。\n",
    "\n",
    "纠缠层有三种Ent1、Ent2、Ent3，所以三种ansatz对应的是三种纠缠层与参数层的组合。"
   ]
  },
  {
   "cell_type": "code",
   "execution_count": 5,
   "metadata": {},
   "outputs": [],
   "source": [
    "from mindquantum.core.circuit import Circuit\n",
    "import mindquantum.core.gates as Gate\n",
    "\n",
    "def Classifying_circuit(qubit_num, block_num, Ent_circ):\n",
    "    num = qubit_num\n",
    "    depth = block_num\n",
    "    circ = Circuit()\n",
    "    for i in range(depth):\n",
    "        circ = Para_circuit(circ, num)\n",
    "        if Ent_circ == 'Ent1':\n",
    "            circ = Ent1_circuit(circ, num)\n",
    "        elif Ent_circ == 'Ent2':\n",
    "            circ = Ent2_circuit(circ, num)\n",
    "        elif Ent_circ == 'Ent3':\n",
    "            circ = Ent3_circuit(circ, num)\n",
    "    return circ\n",
    "\n",
    "def Ent1_circuit(circuit,qubit_num):\n",
    "    for i in range(0,qubit_num-1,2):\n",
    "        circuit += Gate.Z.on(i+1,i)\n",
    "    for i in range(1,qubit_num-2,2):\n",
    "        circuit += Gate.Z.on(i+1,i)\n",
    "    return circuit\n",
    "\n",
    "def Ent2_circuit(circuit,qubit_num):\n",
    "    for i in range(0,qubit_num-1,2):\n",
    "        circuit += Gate.X.on(i+1,i)\n",
    "    for i in range(1,qubit_num-2,2):\n",
    "        circuit += Gate.X.on(i+1,i)\n",
    "    return circuit\n",
    "\n",
    "def Ent3_circuit(circuit,qubit_num):\n",
    "    circuit = Ent2_circuit(circuit,qubit_num)\n",
    "    circuit = Ent2_circuit(circuit,qubit_num)\n",
    "    return circuit\n",
    "\n",
    "def Para_circuit(circuit,qubit_num):\n",
    "    for i in range(qubit_num):\n",
    "        circuit += Gate.RX(f'Xtheta{i}').on(i)\n",
    "        circuit += Gate.RZ(f'Ztheta{i}').on(i)\n",
    "        circuit += Gate.RX(f'Xtheta2{i}').on(i)\n",
    "    return circuit"
   ]
  },
  {
   "attachments": {},
   "cell_type": "markdown",
   "metadata": {},
   "source": [
    "Classifying_circuit(qubit_num, block_num, Ent_circ)可以通过传入比特数、复合层层数、纠缠层名称来定义ansatz"
   ]
  },
  {
   "cell_type": "code",
   "execution_count": 6,
   "metadata": {},
   "outputs": [],
   "source": [
    "QUBIT_NUM = 8\n",
    "BLOCK_NUM = 2\n",
    "Ent = 'Ent1'\n",
    "ansatz = Classifying_circuit(QUBIT_NUM,BLOCK_NUM,Ent).as_ansatz()"
   ]
  },
  {
   "attachments": {},
   "cell_type": "markdown",
   "metadata": {},
   "source": [
    "传入初态和比特数定义编码层"
   ]
  },
  {
   "cell_type": "code",
   "execution_count": 7,
   "metadata": {},
   "outputs": [],
   "source": [
    "encoder = amplitude_encoder([0], QUBIT_NUM)[0].as_encoder()"
   ]
  },
  {
   "attachments": {},
   "cell_type": "markdown",
   "metadata": {},
   "source": [
    "随后通过Pauli-Z测量最后两个比特用于二分类，设置运行环境和全局种子后线路搭建完成。"
   ]
  },
  {
   "cell_type": "code",
   "execution_count": 8,
   "metadata": {},
   "outputs": [],
   "source": [
    "\n",
    "from mindquantum.framework import MQLayer\n",
    "from mindquantum.core.operators import Hamiltonian, QubitOperator\n",
    "from mindquantum.simulator import Simulator\n",
    "import mindspore as ms\n",
    "WORKER = 4\n",
    "ms.set_context(mode=ms.PYNATIVE_MODE, device_target=\"CPU\")\n",
    "ms.set_seed(1)\n",
    "circ = encoder.as_encoder() + ansatz\n",
    "meas = [Hamiltonian(QubitOperator(f'Z{i}')) for i in [QUBIT_NUM-2, QUBIT_NUM-1]]\n",
    "sim = Simulator('mqvector', circ.n_qubits)\n",
    "grad_ops = sim.get_expectation_with_grad(meas, circ, parallel_worker=WORKER)\n",
    "Qnet = MQLayer(grad_ops)"
   ]
  },
  {
   "attachments": {},
   "cell_type": "markdown",
   "metadata": {},
   "source": [
    "### 模型训练"
   ]
  },
  {
   "cell_type": "code",
   "execution_count": 9,
   "metadata": {},
   "outputs": [],
   "source": [
    "class ForwardAndLoss(ms.nn.Cell):\n",
    "    def __init__(self, backbone, loss_fn):\n",
    "        super(ForwardAndLoss, self).__init__(auto_prefix=False)\n",
    "        self.backbone = backbone\n",
    "        self.loss_fn = loss_fn\n",
    "\n",
    "    def construct(self, data, label):\n",
    "        output = self.backbone(data)\n",
    "        return self.loss_fn(output, label)\n",
    "\n",
    "    def backbone_network(self):\n",
    "        return self.backbone\n",
    "\n",
    "\n",
    "class TrainOneStep(ms.nn.TrainOneStepCell):\n",
    "\n",
    "    def __init__(self, network, optimizer):\n",
    "        super(TrainOneStep, self).__init__(network, optimizer)\n",
    "        self.grad = ms.ops.GradOperation(get_by_list=True)\n",
    "\n",
    "    def construct(self, data, label):\n",
    "        weights = self.weights\n",
    "        loss = self.network(data, label)\n",
    "        grads = self.grad(self.network, weights)(data, label)\n",
    "        return loss, self.optimizer(grads)\n",
    "\n",
    "LR = 0.05\n",
    "loss = ms.nn.SoftmaxCrossEntropyWithLogits(sparse=True, reduction='mean') \n",
    "opt = ms.nn.Adam(Qnet.trainable_params(), learning_rate=LR) \n",
    "net_with_loss = ForwardAndLoss(Qnet, loss)\n",
    "train_one_step = TrainOneStep(net_with_loss, opt)"
   ]
  },
  {
   "attachments": {},
   "cell_type": "markdown",
   "metadata": {},
   "source": [
    "定义评价标准"
   ]
  },
  {
   "cell_type": "code",
   "execution_count": 10,
   "metadata": {},
   "outputs": [],
   "source": [
    "class EpochLoss(ms.nn.Metric):\n",
    "    def __init__(self):\n",
    "        super(EpochLoss, self).__init__()\n",
    "        self.clear()\n",
    "\n",
    "    def clear(self):\n",
    "        self.loss = 0\n",
    "        self.counter = 0\n",
    "\n",
    "    def update(self, *loss):\n",
    "        loss = loss[0].asnumpy()\n",
    "        self.loss += loss \n",
    "        self.counter += 1\n",
    "\n",
    "    def eval(self):\n",
    "        return self.loss / self.counter\n",
    "\n",
    "class EpochAcc(ms.nn.Metric):\n",
    "    def __init__(self):\n",
    "        super(EpochAcc, self).__init__()\n",
    "        self.clear()\n",
    "\n",
    "    def clear(self):\n",
    "        self.correct_num = 0\n",
    "        self.total_num = 0\n",
    "\n",
    "    def update(self, *inputs):\n",
    "        y_output = inputs[0].asnumpy()\n",
    "        y = inputs[1].asnumpy()\n",
    "        y_pred = np.zeros_like(y)\n",
    "        for i in range(y_pred.shape[0]):\n",
    "            yi = y_output[i]\n",
    "            if yi[0] >= yi[1]:\n",
    "                y_pred[i] = 0\n",
    "            else:\n",
    "                y_pred[i] = 1       \n",
    "        self.correct_num += np.sum(y == y_pred)\n",
    "        self.total_num += y.shape[0] \n",
    "\n",
    "    def eval(self):\n",
    "        return self.correct_num / self.total_num\n",
    "        \n",
    "acc_epoch = EpochAcc() \n",
    "loss_epoch = EpochLoss() "
   ]
  },
  {
   "attachments": {},
   "cell_type": "markdown",
   "metadata": {},
   "source": [
    "开始训练"
   ]
  },
  {
   "cell_type": "code",
   "execution_count": 12,
   "metadata": {
    "tags": []
   },
   "outputs": [
    {
     "name": "stdout",
     "output_type": "stream",
     "text": [
      "epoch: 1, training loss: 0.47745896577835084, training acc: 0.959, testing loss: 0.47894489268461865, testing acc: 0.9591666666666666\n",
      "epoch: 2, training loss: 0.4774593234062195, training acc: 0.959, testing loss: 0.47894519567489624, testing acc: 0.9591666666666666\n",
      "epoch: 3, training loss: 0.4774597227573395, training acc: 0.959, testing loss: 0.4789454862475395, testing acc: 0.9591666666666666\n",
      "epoch: 4, training loss: 0.4774601548910141, training acc: 0.959, testing loss: 0.4789458438754082, testing acc: 0.9591666666666666\n",
      "epoch: 5, training loss: 0.47746056914329527, training acc: 0.959, testing loss: 0.47894613196452457, testing acc: 0.9591666666666666\n",
      "epoch: 6, training loss: 0.4774609476327896, training acc: 0.959, testing loss: 0.47894638031721115, testing acc: 0.9591666666666666\n",
      "epoch: 7, training loss: 0.47746134996414186, training acc: 0.959, testing loss: 0.47894666095574695, testing acc: 0.9591666666666666\n",
      "epoch: 8, training loss: 0.4774617850780487, training acc: 0.959, testing loss: 0.47894692172606784, testing acc: 0.9591666666666666\n",
      "epoch: 9, training loss: 0.4774621456861496, training acc: 0.959, testing loss: 0.47894713282585144, testing acc: 0.9591666666666666\n",
      "epoch: 10, training loss: 0.47746254205703736, training acc: 0.959, testing loss: 0.47894736131032306, testing acc: 0.9591666666666666\n",
      "epoch: 11, training loss: 0.4774628788232803, training acc: 0.959, testing loss: 0.4789475326736768, testing acc: 0.9591666666666666\n",
      "epoch: 12, training loss: 0.47746324837207793, training acc: 0.959, testing loss: 0.4789477288722992, testing acc: 0.9591666666666666\n",
      "epoch: 13, training loss: 0.4774635791778564, training acc: 0.959, testing loss: 0.4789478952685992, testing acc: 0.9591666666666666\n",
      "epoch: 14, training loss: 0.4774638295173645, training acc: 0.959, testing loss: 0.4789480318625768, testing acc: 0.9591666666666666\n",
      "epoch: 15, training loss: 0.47746401429176333, training acc: 0.959, testing loss: 0.47894808650016785, testing acc: 0.9591666666666666\n",
      "epoch: 16, training loss: 0.4774641752243042, training acc: 0.959, testing loss: 0.4789481883247693, testing acc: 0.9591666666666666\n",
      "epoch: 17, training loss: 0.47746423482894895, training acc: 0.959, testing loss: 0.4789482305447261, testing acc: 0.9591666666666666\n",
      "epoch: 18, training loss: 0.4774642139673233, training acc: 0.959, testing loss: 0.4789482057094574, testing acc: 0.9591666666666666\n",
      "epoch: 19, training loss: 0.47746420800685885, training acc: 0.959, testing loss: 0.4789482156435649, testing acc: 0.9591666666666666\n",
      "epoch: 20, training loss: 0.47746404111385343, training acc: 0.959, testing loss: 0.4789481336871783, testing acc: 0.9591666666666666\n",
      "epoch: 21, training loss: 0.4774638921022415, training acc: 0.959, testing loss: 0.47894804179668427, testing acc: 0.9591666666666666\n",
      "epoch: 22, training loss: 0.47746360003948213, training acc: 0.959, testing loss: 0.47894787788391113, testing acc: 0.9591666666666666\n",
      "epoch: 23, training loss: 0.47746328115463255, training acc: 0.959, testing loss: 0.47894766678412753, testing acc: 0.9591666666666666\n",
      "epoch: 24, training loss: 0.47746294140815737, training acc: 0.959, testing loss: 0.4789474084973335, testing acc: 0.9591666666666666\n",
      "epoch: 25, training loss: 0.47746263444423676, training acc: 0.959, testing loss: 0.4789472172657649, testing acc: 0.9591666666666666\n",
      "epoch: 26, training loss: 0.47746223509311675, training acc: 0.959, testing loss: 0.4789468968907992, testing acc: 0.9591666666666666\n",
      "epoch: 27, training loss: 0.47746191918849945, training acc: 0.959, testing loss: 0.47894667088985443, testing acc: 0.9591666666666666\n",
      "epoch: 28, training loss: 0.477461576461792, training acc: 0.959, testing loss: 0.47894642502069473, testing acc: 0.9591666666666666\n",
      "epoch: 29, training loss: 0.47746129930019376, training acc: 0.959, testing loss: 0.47894618660211563, testing acc: 0.9591666666666666\n",
      "epoch: 30, training loss: 0.47746110558509824, training acc: 0.959, testing loss: 0.4789460400740306, testing acc: 0.9591666666666666\n"
     ]
    }
   ],
   "source": [
    "train_loss_epoch = []\n",
    "train_acc_epoch = []\n",
    "test_loss_epoch = []\n",
    "test_acc_epoch = []\n",
    "\n",
    "STEP_NUM = 30\n",
    "\n",
    "for epoch in range(STEP_NUM):\n",
    "    loss_epoch.clear() \n",
    "    acc_epoch.clear()\n",
    "\n",
    "    for data in train_loader: \n",
    "        train_one_step(data[0], data[1])   # 执行训练，并更新权重, data[0]参数，data[1]为标签\n",
    "        loss = net_with_loss(data[0], data[1])  \n",
    "        loss_epoch.update(loss) \n",
    "    train_loss = loss_epoch.eval() \n",
    "    train_loss_epoch.append(train_loss)\n",
    "\n",
    "    # training accuracy\n",
    "    for data in train_loader:\n",
    "        logits = Qnet(data[0]) # 向前传播得到预测值\n",
    "        acc_epoch.update(logits, data[1]) # 计算预测准确率\n",
    "    train_acc = acc_epoch.eval()\n",
    "    train_acc_epoch.append(train_acc)\n",
    "\n",
    "    # testing loss\n",
    "    for data in test_loader:\n",
    "        loss = net_with_loss(data[0], data[1])  # 计算损失值\n",
    "        loss_epoch.update(loss)\n",
    "    test_loss = loss_epoch.eval()\n",
    "    test_loss_epoch.append(test_loss)\n",
    "\n",
    "    # testing accuracy\n",
    "    for data in test_loader:\n",
    "        logits = Qnet(data[0])\n",
    "        acc_epoch.update(logits, data[1])\n",
    "    test_acc = acc_epoch.eval()\n",
    "    test_acc_epoch.append(test_acc)\n",
    "\n",
    "    print(f\"epoch: {epoch+1}, training loss: {train_loss}, training acc: {train_acc}, testing loss: {test_loss}, testing acc: {test_acc}\")"
   ]
  },
  {
   "attachments": {},
   "cell_type": "markdown",
   "metadata": {},
   "source": [
    "## 项目总结\n",
    "\n",
    "原文中所给出的ansatz线路对FashionMNIST数据集中的二分类问题解析能力明显优于MNIST数据集。\n",
    "\n",
    "在FashionMNIST分类中，基于控制Z门的纠缠层Ent1表现优于基于控制X门的Ent2和Ent3；而在MNIST分类中，Ent2和Ent3表现优于Ent1，此结论与原文规律吻合。"
   ]
  },
  {
   "cell_type": "code",
   "execution_count": 18,
   "metadata": {},
   "outputs": [
    {
     "name": "stdout",
     "output_type": "stream",
     "text": [
      "pr_ansatz =  {'Xtheta0': 0.009864898, 'Ztheta0': -0.021740234, 'Xtheta20': -0.02909206, 'Xtheta1': -0.0014685823, 'Ztheta1': 0.0005451797, 'Xtheta21': 0.011953489, 'Xtheta2': -0.0020502275, 'Ztheta2': 0.009474559, 'Xtheta22': 0.026484597, 'Xtheta3': -0.0047448785, 'Ztheta3': 0.0039265715, 'Xtheta23': 0.0073982663, 'Xtheta4': -0.0045448258, 'Ztheta4': 0.01777239, 'Xtheta24': -0.0032428692, 'Xtheta5': -0.27073637, 'Ztheta5': -1.1779107, 'Xtheta25': 0.6154467, 'Xtheta6': 0.691934, 'Ztheta6': 0.033877824, 'Xtheta26': 0.8857951, 'Xtheta7': -0.008999492, 'Ztheta7': -1.5637982, 'Xtheta27': -0.35768563}\n"
     ]
    },
    {
     "data": {
      "image/svg+xml": [
       "<svg xmlns=\"http://www.w3.org/2000/svg\" width=\"936.8\" height=\"500.0\" xmlns:xlink=\"http://www.w3.org/1999/xlink\"><rect x=\"0\" y=\"0.0\" width=\"936.8\" height=\"500.0\" fill=\"#ffffff\" /><text x=\"20.0\" y=\"40.0\" font-size=\"16px\" dominant-baseline=\"middle\" text-anchor=\"start\" font-family=\"Arial\" font-weight=\"normal\" fill=\"#252b3a\" >q0: </text><text x=\"20.0\" y=\"100.0\" font-size=\"16px\" dominant-baseline=\"middle\" text-anchor=\"start\" font-family=\"Arial\" font-weight=\"normal\" fill=\"#252b3a\" >q1: </text><text x=\"20.0\" y=\"160.0\" font-size=\"16px\" dominant-baseline=\"middle\" text-anchor=\"start\" font-family=\"Arial\" font-weight=\"normal\" fill=\"#252b3a\" >q2: </text><text x=\"20.0\" y=\"220.0\" font-size=\"16px\" dominant-baseline=\"middle\" text-anchor=\"start\" font-family=\"Arial\" font-weight=\"normal\" fill=\"#252b3a\" >q3: </text><text x=\"20.0\" y=\"280.0\" font-size=\"16px\" dominant-baseline=\"middle\" text-anchor=\"start\" font-family=\"Arial\" font-weight=\"normal\" fill=\"#252b3a\" >q4: </text><text x=\"20.0\" y=\"340.0\" font-size=\"16px\" dominant-baseline=\"middle\" text-anchor=\"start\" font-family=\"Arial\" font-weight=\"normal\" fill=\"#252b3a\" >q5: </text><text x=\"20.0\" y=\"400.0\" font-size=\"16px\" dominant-baseline=\"middle\" text-anchor=\"start\" font-family=\"Arial\" font-weight=\"normal\" fill=\"#252b3a\" >q6: </text><text x=\"20.0\" y=\"460.0\" font-size=\"16px\" dominant-baseline=\"middle\" text-anchor=\"start\" font-family=\"Arial\" font-weight=\"normal\" fill=\"#252b3a\" >q7: </text><line x1=\"48.8\" x2=\"916.8\" y1=\"40.0\" y2=\"40.0\" stroke=\"#adb0b8\" stroke-width=\"1\" /><line x1=\"48.8\" x2=\"916.8\" y1=\"100.0\" y2=\"100.0\" stroke=\"#adb0b8\" stroke-width=\"1\" /><line x1=\"48.8\" x2=\"916.8\" y1=\"160.0\" y2=\"160.0\" stroke=\"#adb0b8\" stroke-width=\"1\" /><line x1=\"48.8\" x2=\"916.8\" y1=\"220.0\" y2=\"220.0\" stroke=\"#adb0b8\" stroke-width=\"1\" /><line x1=\"48.8\" x2=\"916.8\" y1=\"280.0\" y2=\"280.0\" stroke=\"#adb0b8\" stroke-width=\"1\" /><line x1=\"48.8\" x2=\"916.8\" y1=\"340.0\" y2=\"340.0\" stroke=\"#adb0b8\" stroke-width=\"1\" /><line x1=\"48.8\" x2=\"916.8\" y1=\"400.0\" y2=\"400.0\" stroke=\"#adb0b8\" stroke-width=\"1\" /><line x1=\"48.8\" x2=\"916.8\" y1=\"460.0\" y2=\"460.0\" stroke=\"#adb0b8\" stroke-width=\"1\" /><rect x=\"72.8\" y=\"20.0\" width=\"80.0\" height=\"40\" rx=\"4\" ry=\"4\" stroke=\"#ffffff\" stroke-width=\"0\" fill=\"#fac209\" fill-opacity=\"1\" /><text x=\"112.8\" y=\"36.0\" font-size=\"20px\" dominant-baseline=\"middle\" text-anchor=\"middle\" font-family=\"Arial\" font-weight=\"normal\" fill=\"#ffffff\" >RX </text><text x=\"112.8\" y=\"52.0\" font-size=\"14.0px\" dominant-baseline=\"middle\" text-anchor=\"middle\" font-family=\"Arial\" font-weight=\"normal\" fill=\"#ffffff\" >0.0099 </text><rect x=\"172.8\" y=\"20.0\" width=\"80.0\" height=\"40\" rx=\"4\" ry=\"4\" stroke=\"#ffffff\" stroke-width=\"0\" fill=\"#fac209\" fill-opacity=\"1\" /><text x=\"212.8\" y=\"36.0\" font-size=\"20px\" dominant-baseline=\"middle\" text-anchor=\"middle\" font-family=\"Arial\" font-weight=\"normal\" fill=\"#ffffff\" >RZ </text><text x=\"212.8\" y=\"52.0\" font-size=\"14.0px\" dominant-baseline=\"middle\" text-anchor=\"middle\" font-family=\"Arial\" font-weight=\"normal\" fill=\"#ffffff\" >-0.0217 </text><rect x=\"272.8\" y=\"20.0\" width=\"80.0\" height=\"40\" rx=\"4\" ry=\"4\" stroke=\"#ffffff\" stroke-width=\"0\" fill=\"#fac209\" fill-opacity=\"1\" /><text x=\"312.8\" y=\"36.0\" font-size=\"20px\" dominant-baseline=\"middle\" text-anchor=\"middle\" font-family=\"Arial\" font-weight=\"normal\" fill=\"#ffffff\" >RX </text><text x=\"312.8\" y=\"52.0\" font-size=\"14.0px\" dominant-baseline=\"middle\" text-anchor=\"middle\" font-family=\"Arial\" font-weight=\"normal\" fill=\"#ffffff\" >-0.0291 </text><rect x=\"72.8\" y=\"80.0\" width=\"80.0\" height=\"40\" rx=\"4\" ry=\"4\" stroke=\"#ffffff\" stroke-width=\"0\" fill=\"#fac209\" fill-opacity=\"1\" /><text x=\"112.8\" y=\"96.0\" font-size=\"20px\" dominant-baseline=\"middle\" text-anchor=\"middle\" font-family=\"Arial\" font-weight=\"normal\" fill=\"#ffffff\" >RX </text><text x=\"112.8\" y=\"112.0\" font-size=\"14.0px\" dominant-baseline=\"middle\" text-anchor=\"middle\" font-family=\"Arial\" font-weight=\"normal\" fill=\"#ffffff\" >-0.0015 </text><rect x=\"172.8\" y=\"80.0\" width=\"80.0\" height=\"40\" rx=\"4\" ry=\"4\" stroke=\"#ffffff\" stroke-width=\"0\" fill=\"#fac209\" fill-opacity=\"1\" /><text x=\"212.8\" y=\"96.0\" font-size=\"20px\" dominant-baseline=\"middle\" text-anchor=\"middle\" font-family=\"Arial\" font-weight=\"normal\" fill=\"#ffffff\" >RZ </text><text x=\"212.8\" y=\"112.0\" font-size=\"14.0px\" dominant-baseline=\"middle\" text-anchor=\"middle\" font-family=\"Arial\" font-weight=\"normal\" fill=\"#ffffff\" >0.0005 </text><rect x=\"272.8\" y=\"80.0\" width=\"80.0\" height=\"40\" rx=\"4\" ry=\"4\" stroke=\"#ffffff\" stroke-width=\"0\" fill=\"#fac209\" fill-opacity=\"1\" /><text x=\"312.8\" y=\"96.0\" font-size=\"20px\" dominant-baseline=\"middle\" text-anchor=\"middle\" font-family=\"Arial\" font-weight=\"normal\" fill=\"#ffffff\" >RX </text><text x=\"312.8\" y=\"112.0\" font-size=\"14.0px\" dominant-baseline=\"middle\" text-anchor=\"middle\" font-family=\"Arial\" font-weight=\"normal\" fill=\"#ffffff\" >0.012 </text><rect x=\"72.8\" y=\"140.0\" width=\"80.0\" height=\"40\" rx=\"4\" ry=\"4\" stroke=\"#ffffff\" stroke-width=\"0\" fill=\"#fac209\" fill-opacity=\"1\" /><text x=\"112.8\" y=\"156.0\" font-size=\"20px\" dominant-baseline=\"middle\" text-anchor=\"middle\" font-family=\"Arial\" font-weight=\"normal\" fill=\"#ffffff\" >RX </text><text x=\"112.8\" y=\"172.0\" font-size=\"14.0px\" dominant-baseline=\"middle\" text-anchor=\"middle\" font-family=\"Arial\" font-weight=\"normal\" fill=\"#ffffff\" >-0.0021 </text><rect x=\"172.8\" y=\"140.0\" width=\"80.0\" height=\"40\" rx=\"4\" ry=\"4\" stroke=\"#ffffff\" stroke-width=\"0\" fill=\"#fac209\" fill-opacity=\"1\" /><text x=\"212.8\" y=\"156.0\" font-size=\"20px\" dominant-baseline=\"middle\" text-anchor=\"middle\" font-family=\"Arial\" font-weight=\"normal\" fill=\"#ffffff\" >RZ </text><text x=\"212.8\" y=\"172.0\" font-size=\"14.0px\" dominant-baseline=\"middle\" text-anchor=\"middle\" font-family=\"Arial\" font-weight=\"normal\" fill=\"#ffffff\" >0.0095 </text><rect x=\"272.8\" y=\"140.0\" width=\"80.0\" height=\"40\" rx=\"4\" ry=\"4\" stroke=\"#ffffff\" stroke-width=\"0\" fill=\"#fac209\" fill-opacity=\"1\" /><text x=\"312.8\" y=\"156.0\" font-size=\"20px\" dominant-baseline=\"middle\" text-anchor=\"middle\" font-family=\"Arial\" font-weight=\"normal\" fill=\"#ffffff\" >RX </text><text x=\"312.8\" y=\"172.0\" font-size=\"14.0px\" dominant-baseline=\"middle\" text-anchor=\"middle\" font-family=\"Arial\" font-weight=\"normal\" fill=\"#ffffff\" >0.0265 </text><rect x=\"72.8\" y=\"200.0\" width=\"80.0\" height=\"40\" rx=\"4\" ry=\"4\" stroke=\"#ffffff\" stroke-width=\"0\" fill=\"#fac209\" fill-opacity=\"1\" /><text x=\"112.8\" y=\"216.0\" font-size=\"20px\" dominant-baseline=\"middle\" text-anchor=\"middle\" font-family=\"Arial\" font-weight=\"normal\" fill=\"#ffffff\" >RX </text><text x=\"112.8\" y=\"232.0\" font-size=\"14.0px\" dominant-baseline=\"middle\" text-anchor=\"middle\" font-family=\"Arial\" font-weight=\"normal\" fill=\"#ffffff\" >-0.0047 </text><rect x=\"172.8\" y=\"200.0\" width=\"80.0\" height=\"40\" rx=\"4\" ry=\"4\" stroke=\"#ffffff\" stroke-width=\"0\" fill=\"#fac209\" fill-opacity=\"1\" /><text x=\"212.8\" y=\"216.0\" font-size=\"20px\" dominant-baseline=\"middle\" text-anchor=\"middle\" font-family=\"Arial\" font-weight=\"normal\" fill=\"#ffffff\" >RZ </text><text x=\"212.8\" y=\"232.0\" font-size=\"14.0px\" dominant-baseline=\"middle\" text-anchor=\"middle\" font-family=\"Arial\" font-weight=\"normal\" fill=\"#ffffff\" >0.0039 </text><rect x=\"272.8\" y=\"200.0\" width=\"80.0\" height=\"40\" rx=\"4\" ry=\"4\" stroke=\"#ffffff\" stroke-width=\"0\" fill=\"#fac209\" fill-opacity=\"1\" /><text x=\"312.8\" y=\"216.0\" font-size=\"20px\" dominant-baseline=\"middle\" text-anchor=\"middle\" font-family=\"Arial\" font-weight=\"normal\" fill=\"#ffffff\" >RX </text><text x=\"312.8\" y=\"232.0\" font-size=\"14.0px\" dominant-baseline=\"middle\" text-anchor=\"middle\" font-family=\"Arial\" font-weight=\"normal\" fill=\"#ffffff\" >0.0074 </text><rect x=\"72.8\" y=\"260.0\" width=\"80.0\" height=\"40\" rx=\"4\" ry=\"4\" stroke=\"#ffffff\" stroke-width=\"0\" fill=\"#fac209\" fill-opacity=\"1\" /><text x=\"112.8\" y=\"276.0\" font-size=\"20px\" dominant-baseline=\"middle\" text-anchor=\"middle\" font-family=\"Arial\" font-weight=\"normal\" fill=\"#ffffff\" >RX </text><text x=\"112.8\" y=\"292.0\" font-size=\"14.0px\" dominant-baseline=\"middle\" text-anchor=\"middle\" font-family=\"Arial\" font-weight=\"normal\" fill=\"#ffffff\" >-0.0045 </text><rect x=\"172.8\" y=\"260.0\" width=\"80.0\" height=\"40\" rx=\"4\" ry=\"4\" stroke=\"#ffffff\" stroke-width=\"0\" fill=\"#fac209\" fill-opacity=\"1\" /><text x=\"212.8\" y=\"276.0\" font-size=\"20px\" dominant-baseline=\"middle\" text-anchor=\"middle\" font-family=\"Arial\" font-weight=\"normal\" fill=\"#ffffff\" >RZ </text><text x=\"212.8\" y=\"292.0\" font-size=\"14.0px\" dominant-baseline=\"middle\" text-anchor=\"middle\" font-family=\"Arial\" font-weight=\"normal\" fill=\"#ffffff\" >0.0178 </text><rect x=\"272.8\" y=\"260.0\" width=\"80.0\" height=\"40\" rx=\"4\" ry=\"4\" stroke=\"#ffffff\" stroke-width=\"0\" fill=\"#fac209\" fill-opacity=\"1\" /><text x=\"312.8\" y=\"276.0\" font-size=\"20px\" dominant-baseline=\"middle\" text-anchor=\"middle\" font-family=\"Arial\" font-weight=\"normal\" fill=\"#ffffff\" >RX </text><text x=\"312.8\" y=\"292.0\" font-size=\"14.0px\" dominant-baseline=\"middle\" text-anchor=\"middle\" font-family=\"Arial\" font-weight=\"normal\" fill=\"#ffffff\" >-0.0032 </text><rect x=\"72.8\" y=\"320.0\" width=\"80.0\" height=\"40\" rx=\"4\" ry=\"4\" stroke=\"#ffffff\" stroke-width=\"0\" fill=\"#fac209\" fill-opacity=\"1\" /><text x=\"112.8\" y=\"336.0\" font-size=\"20px\" dominant-baseline=\"middle\" text-anchor=\"middle\" font-family=\"Arial\" font-weight=\"normal\" fill=\"#ffffff\" >RX </text><text x=\"112.8\" y=\"352.0\" font-size=\"14.0px\" dominant-baseline=\"middle\" text-anchor=\"middle\" font-family=\"Arial\" font-weight=\"normal\" fill=\"#ffffff\" >-0.2707 </text><rect x=\"172.8\" y=\"320.0\" width=\"80.0\" height=\"40\" rx=\"4\" ry=\"4\" stroke=\"#ffffff\" stroke-width=\"0\" fill=\"#fac209\" fill-opacity=\"1\" /><text x=\"212.8\" y=\"336.0\" font-size=\"20px\" dominant-baseline=\"middle\" text-anchor=\"middle\" font-family=\"Arial\" font-weight=\"normal\" fill=\"#ffffff\" >RZ </text><text x=\"212.8\" y=\"352.0\" font-size=\"14.0px\" dominant-baseline=\"middle\" text-anchor=\"middle\" font-family=\"Arial\" font-weight=\"normal\" fill=\"#ffffff\" >-1.1779 </text><rect x=\"272.8\" y=\"320.0\" width=\"80.0\" height=\"40\" rx=\"4\" ry=\"4\" stroke=\"#ffffff\" stroke-width=\"0\" fill=\"#fac209\" fill-opacity=\"1\" /><text x=\"312.8\" y=\"336.0\" font-size=\"20px\" dominant-baseline=\"middle\" text-anchor=\"middle\" font-family=\"Arial\" font-weight=\"normal\" fill=\"#ffffff\" >RX </text><text x=\"312.8\" y=\"352.0\" font-size=\"14.0px\" dominant-baseline=\"middle\" text-anchor=\"middle\" font-family=\"Arial\" font-weight=\"normal\" fill=\"#ffffff\" >0.6154 </text><rect x=\"72.8\" y=\"380.0\" width=\"80.0\" height=\"40\" rx=\"4\" ry=\"4\" stroke=\"#ffffff\" stroke-width=\"0\" fill=\"#fac209\" fill-opacity=\"1\" /><text x=\"112.8\" y=\"396.0\" font-size=\"20px\" dominant-baseline=\"middle\" text-anchor=\"middle\" font-family=\"Arial\" font-weight=\"normal\" fill=\"#ffffff\" >RX </text><text x=\"112.8\" y=\"412.0\" font-size=\"14.0px\" dominant-baseline=\"middle\" text-anchor=\"middle\" font-family=\"Arial\" font-weight=\"normal\" fill=\"#ffffff\" >0.6919 </text><rect x=\"172.8\" y=\"380.0\" width=\"80.0\" height=\"40\" rx=\"4\" ry=\"4\" stroke=\"#ffffff\" stroke-width=\"0\" fill=\"#fac209\" fill-opacity=\"1\" /><text x=\"212.8\" y=\"396.0\" font-size=\"20px\" dominant-baseline=\"middle\" text-anchor=\"middle\" font-family=\"Arial\" font-weight=\"normal\" fill=\"#ffffff\" >RZ </text><text x=\"212.8\" y=\"412.0\" font-size=\"14.0px\" dominant-baseline=\"middle\" text-anchor=\"middle\" font-family=\"Arial\" font-weight=\"normal\" fill=\"#ffffff\" >0.0339 </text><rect x=\"272.8\" y=\"380.0\" width=\"80.0\" height=\"40\" rx=\"4\" ry=\"4\" stroke=\"#ffffff\" stroke-width=\"0\" fill=\"#fac209\" fill-opacity=\"1\" /><text x=\"312.8\" y=\"396.0\" font-size=\"20px\" dominant-baseline=\"middle\" text-anchor=\"middle\" font-family=\"Arial\" font-weight=\"normal\" fill=\"#ffffff\" >RX </text><text x=\"312.8\" y=\"412.0\" font-size=\"14.0px\" dominant-baseline=\"middle\" text-anchor=\"middle\" font-family=\"Arial\" font-weight=\"normal\" fill=\"#ffffff\" >0.8858 </text><rect x=\"72.8\" y=\"440.0\" width=\"80.0\" height=\"40\" rx=\"4\" ry=\"4\" stroke=\"#ffffff\" stroke-width=\"0\" fill=\"#fac209\" fill-opacity=\"1\" /><text x=\"112.8\" y=\"456.0\" font-size=\"20px\" dominant-baseline=\"middle\" text-anchor=\"middle\" font-family=\"Arial\" font-weight=\"normal\" fill=\"#ffffff\" >RX </text><text x=\"112.8\" y=\"472.0\" font-size=\"14.0px\" dominant-baseline=\"middle\" text-anchor=\"middle\" font-family=\"Arial\" font-weight=\"normal\" fill=\"#ffffff\" >-0.009 </text><rect x=\"172.8\" y=\"440.0\" width=\"80.0\" height=\"40\" rx=\"4\" ry=\"4\" stroke=\"#ffffff\" stroke-width=\"0\" fill=\"#fac209\" fill-opacity=\"1\" /><text x=\"212.8\" y=\"456.0\" font-size=\"20px\" dominant-baseline=\"middle\" text-anchor=\"middle\" font-family=\"Arial\" font-weight=\"normal\" fill=\"#ffffff\" >RZ </text><text x=\"212.8\" y=\"472.0\" font-size=\"14.0px\" dominant-baseline=\"middle\" text-anchor=\"middle\" font-family=\"Arial\" font-weight=\"normal\" fill=\"#ffffff\" >-1.5638 </text><rect x=\"272.8\" y=\"440.0\" width=\"80.0\" height=\"40\" rx=\"4\" ry=\"4\" stroke=\"#ffffff\" stroke-width=\"0\" fill=\"#fac209\" fill-opacity=\"1\" /><text x=\"312.8\" y=\"456.0\" font-size=\"20px\" dominant-baseline=\"middle\" text-anchor=\"middle\" font-family=\"Arial\" font-weight=\"normal\" fill=\"#ffffff\" >RX </text><text x=\"312.8\" y=\"472.0\" font-size=\"14.0px\" dominant-baseline=\"middle\" text-anchor=\"middle\" font-family=\"Arial\" font-weight=\"normal\" fill=\"#ffffff\" >-0.3577 </text><circle cx=\"392.8\" cy=\"40.0\" r=\"4\" fill=\"#5e7ce0\" /><line x1=\"392.8\" x2=\"392.8\" y1=\"40.0\" y2=\"100.0\" stroke=\"#5e7ce0\" stroke-width=\"3\" /><rect x=\"372.8\" y=\"80.0\" width=\"40.0\" height=\"40\" rx=\"4\" ry=\"4\" stroke=\"#ffffff\" stroke-width=\"0\" fill=\"#5e7ce0\" fill-opacity=\"1\" /><text x=\"392.8\" y=\"100.0\" font-size=\"20px\" dominant-baseline=\"middle\" text-anchor=\"middle\" font-family=\"Arial\" font-weight=\"normal\" fill=\"#ffffff\" >Z </text><circle cx=\"392.8\" cy=\"160.0\" r=\"4\" fill=\"#5e7ce0\" /><line x1=\"392.8\" x2=\"392.8\" y1=\"160.0\" y2=\"220.0\" stroke=\"#5e7ce0\" stroke-width=\"3\" /><rect x=\"372.8\" y=\"200.0\" width=\"40.0\" height=\"40\" rx=\"4\" ry=\"4\" stroke=\"#ffffff\" stroke-width=\"0\" fill=\"#5e7ce0\" fill-opacity=\"1\" /><text x=\"392.8\" y=\"220.0\" font-size=\"20px\" dominant-baseline=\"middle\" text-anchor=\"middle\" font-family=\"Arial\" font-weight=\"normal\" fill=\"#ffffff\" >Z </text><circle cx=\"392.8\" cy=\"280.0\" r=\"4\" fill=\"#5e7ce0\" /><line x1=\"392.8\" x2=\"392.8\" y1=\"280.0\" y2=\"340.0\" stroke=\"#5e7ce0\" stroke-width=\"3\" /><rect x=\"372.8\" y=\"320.0\" width=\"40.0\" height=\"40\" rx=\"4\" ry=\"4\" stroke=\"#ffffff\" stroke-width=\"0\" fill=\"#5e7ce0\" fill-opacity=\"1\" /><text x=\"392.8\" y=\"340.0\" font-size=\"20px\" dominant-baseline=\"middle\" text-anchor=\"middle\" font-family=\"Arial\" font-weight=\"normal\" fill=\"#ffffff\" >Z </text><circle cx=\"392.8\" cy=\"400.0\" r=\"4\" fill=\"#5e7ce0\" /><line x1=\"392.8\" x2=\"392.8\" y1=\"400.0\" y2=\"460.0\" stroke=\"#5e7ce0\" stroke-width=\"3\" /><rect x=\"372.8\" y=\"440.0\" width=\"40.0\" height=\"40\" rx=\"4\" ry=\"4\" stroke=\"#ffffff\" stroke-width=\"0\" fill=\"#5e7ce0\" fill-opacity=\"1\" /><text x=\"392.8\" y=\"460.0\" font-size=\"20px\" dominant-baseline=\"middle\" text-anchor=\"middle\" font-family=\"Arial\" font-weight=\"normal\" fill=\"#ffffff\" >Z </text><circle cx=\"452.8\" cy=\"100.0\" r=\"4\" fill=\"#5e7ce0\" /><line x1=\"452.8\" x2=\"452.8\" y1=\"100.0\" y2=\"160.0\" stroke=\"#5e7ce0\" stroke-width=\"3\" /><rect x=\"432.8\" y=\"140.0\" width=\"40.0\" height=\"40\" rx=\"4\" ry=\"4\" stroke=\"#ffffff\" stroke-width=\"0\" fill=\"#5e7ce0\" fill-opacity=\"1\" /><text x=\"452.8\" y=\"160.0\" font-size=\"20px\" dominant-baseline=\"middle\" text-anchor=\"middle\" font-family=\"Arial\" font-weight=\"normal\" fill=\"#ffffff\" >Z </text><circle cx=\"452.8\" cy=\"220.0\" r=\"4\" fill=\"#5e7ce0\" /><line x1=\"452.8\" x2=\"452.8\" y1=\"220.0\" y2=\"280.0\" stroke=\"#5e7ce0\" stroke-width=\"3\" /><rect x=\"432.8\" y=\"260.0\" width=\"40.0\" height=\"40\" rx=\"4\" ry=\"4\" stroke=\"#ffffff\" stroke-width=\"0\" fill=\"#5e7ce0\" fill-opacity=\"1\" /><text x=\"452.8\" y=\"280.0\" font-size=\"20px\" dominant-baseline=\"middle\" text-anchor=\"middle\" font-family=\"Arial\" font-weight=\"normal\" fill=\"#ffffff\" >Z </text><circle cx=\"452.8\" cy=\"340.0\" r=\"4\" fill=\"#5e7ce0\" /><line x1=\"452.8\" x2=\"452.8\" y1=\"340.0\" y2=\"400.0\" stroke=\"#5e7ce0\" stroke-width=\"3\" /><rect x=\"432.8\" y=\"380.0\" width=\"40.0\" height=\"40\" rx=\"4\" ry=\"4\" stroke=\"#ffffff\" stroke-width=\"0\" fill=\"#5e7ce0\" fill-opacity=\"1\" /><text x=\"452.8\" y=\"400.0\" font-size=\"20px\" dominant-baseline=\"middle\" text-anchor=\"middle\" font-family=\"Arial\" font-weight=\"normal\" fill=\"#ffffff\" >Z </text><rect x=\"432.8\" y=\"20.0\" width=\"80.0\" height=\"40\" rx=\"4\" ry=\"4\" stroke=\"#ffffff\" stroke-width=\"0\" fill=\"#fac209\" fill-opacity=\"1\" /><text x=\"472.8\" y=\"36.0\" font-size=\"20px\" dominant-baseline=\"middle\" text-anchor=\"middle\" font-family=\"Arial\" font-weight=\"normal\" fill=\"#ffffff\" >RX </text><text x=\"472.8\" y=\"52.0\" font-size=\"14.0px\" dominant-baseline=\"middle\" text-anchor=\"middle\" font-family=\"Arial\" font-weight=\"normal\" fill=\"#ffffff\" >0.0099 </text><rect x=\"532.8\" y=\"20.0\" width=\"80.0\" height=\"40\" rx=\"4\" ry=\"4\" stroke=\"#ffffff\" stroke-width=\"0\" fill=\"#fac209\" fill-opacity=\"1\" /><text x=\"572.8\" y=\"36.0\" font-size=\"20px\" dominant-baseline=\"middle\" text-anchor=\"middle\" font-family=\"Arial\" font-weight=\"normal\" fill=\"#ffffff\" >RZ </text><text x=\"572.8\" y=\"52.0\" font-size=\"14.0px\" dominant-baseline=\"middle\" text-anchor=\"middle\" font-family=\"Arial\" font-weight=\"normal\" fill=\"#ffffff\" >-0.0217 </text><rect x=\"632.8\" y=\"20.0\" width=\"80.0\" height=\"40\" rx=\"4\" ry=\"4\" stroke=\"#ffffff\" stroke-width=\"0\" fill=\"#fac209\" fill-opacity=\"1\" /><text x=\"672.8\" y=\"36.0\" font-size=\"20px\" dominant-baseline=\"middle\" text-anchor=\"middle\" font-family=\"Arial\" font-weight=\"normal\" fill=\"#ffffff\" >RX </text><text x=\"672.8\" y=\"52.0\" font-size=\"14.0px\" dominant-baseline=\"middle\" text-anchor=\"middle\" font-family=\"Arial\" font-weight=\"normal\" fill=\"#ffffff\" >-0.0291 </text><rect x=\"492.8\" y=\"80.0\" width=\"80.0\" height=\"40\" rx=\"4\" ry=\"4\" stroke=\"#ffffff\" stroke-width=\"0\" fill=\"#fac209\" fill-opacity=\"1\" /><text x=\"532.8\" y=\"96.0\" font-size=\"20px\" dominant-baseline=\"middle\" text-anchor=\"middle\" font-family=\"Arial\" font-weight=\"normal\" fill=\"#ffffff\" >RX </text><text x=\"532.8\" y=\"112.0\" font-size=\"14.0px\" dominant-baseline=\"middle\" text-anchor=\"middle\" font-family=\"Arial\" font-weight=\"normal\" fill=\"#ffffff\" >-0.0015 </text><rect x=\"592.8\" y=\"80.0\" width=\"80.0\" height=\"40\" rx=\"4\" ry=\"4\" stroke=\"#ffffff\" stroke-width=\"0\" fill=\"#fac209\" fill-opacity=\"1\" /><text x=\"632.8\" y=\"96.0\" font-size=\"20px\" dominant-baseline=\"middle\" text-anchor=\"middle\" font-family=\"Arial\" font-weight=\"normal\" fill=\"#ffffff\" >RZ </text><text x=\"632.8\" y=\"112.0\" font-size=\"14.0px\" dominant-baseline=\"middle\" text-anchor=\"middle\" font-family=\"Arial\" font-weight=\"normal\" fill=\"#ffffff\" >0.0005 </text><rect x=\"692.8\" y=\"80.0\" width=\"80.0\" height=\"40\" rx=\"4\" ry=\"4\" stroke=\"#ffffff\" stroke-width=\"0\" fill=\"#fac209\" fill-opacity=\"1\" /><text x=\"732.8\" y=\"96.0\" font-size=\"20px\" dominant-baseline=\"middle\" text-anchor=\"middle\" font-family=\"Arial\" font-weight=\"normal\" fill=\"#ffffff\" >RX </text><text x=\"732.8\" y=\"112.0\" font-size=\"14.0px\" dominant-baseline=\"middle\" text-anchor=\"middle\" font-family=\"Arial\" font-weight=\"normal\" fill=\"#ffffff\" >0.012 </text><rect x=\"492.8\" y=\"140.0\" width=\"80.0\" height=\"40\" rx=\"4\" ry=\"4\" stroke=\"#ffffff\" stroke-width=\"0\" fill=\"#fac209\" fill-opacity=\"1\" /><text x=\"532.8\" y=\"156.0\" font-size=\"20px\" dominant-baseline=\"middle\" text-anchor=\"middle\" font-family=\"Arial\" font-weight=\"normal\" fill=\"#ffffff\" >RX </text><text x=\"532.8\" y=\"172.0\" font-size=\"14.0px\" dominant-baseline=\"middle\" text-anchor=\"middle\" font-family=\"Arial\" font-weight=\"normal\" fill=\"#ffffff\" >-0.0021 </text><rect x=\"592.8\" y=\"140.0\" width=\"80.0\" height=\"40\" rx=\"4\" ry=\"4\" stroke=\"#ffffff\" stroke-width=\"0\" fill=\"#fac209\" fill-opacity=\"1\" /><text x=\"632.8\" y=\"156.0\" font-size=\"20px\" dominant-baseline=\"middle\" text-anchor=\"middle\" font-family=\"Arial\" font-weight=\"normal\" fill=\"#ffffff\" >RZ </text><text x=\"632.8\" y=\"172.0\" font-size=\"14.0px\" dominant-baseline=\"middle\" text-anchor=\"middle\" font-family=\"Arial\" font-weight=\"normal\" fill=\"#ffffff\" >0.0095 </text><rect x=\"692.8\" y=\"140.0\" width=\"80.0\" height=\"40\" rx=\"4\" ry=\"4\" stroke=\"#ffffff\" stroke-width=\"0\" fill=\"#fac209\" fill-opacity=\"1\" /><text x=\"732.8\" y=\"156.0\" font-size=\"20px\" dominant-baseline=\"middle\" text-anchor=\"middle\" font-family=\"Arial\" font-weight=\"normal\" fill=\"#ffffff\" >RX </text><text x=\"732.8\" y=\"172.0\" font-size=\"14.0px\" dominant-baseline=\"middle\" text-anchor=\"middle\" font-family=\"Arial\" font-weight=\"normal\" fill=\"#ffffff\" >0.0265 </text><rect x=\"492.8\" y=\"200.0\" width=\"80.0\" height=\"40\" rx=\"4\" ry=\"4\" stroke=\"#ffffff\" stroke-width=\"0\" fill=\"#fac209\" fill-opacity=\"1\" /><text x=\"532.8\" y=\"216.0\" font-size=\"20px\" dominant-baseline=\"middle\" text-anchor=\"middle\" font-family=\"Arial\" font-weight=\"normal\" fill=\"#ffffff\" >RX </text><text x=\"532.8\" y=\"232.0\" font-size=\"14.0px\" dominant-baseline=\"middle\" text-anchor=\"middle\" font-family=\"Arial\" font-weight=\"normal\" fill=\"#ffffff\" >-0.0047 </text><rect x=\"592.8\" y=\"200.0\" width=\"80.0\" height=\"40\" rx=\"4\" ry=\"4\" stroke=\"#ffffff\" stroke-width=\"0\" fill=\"#fac209\" fill-opacity=\"1\" /><text x=\"632.8\" y=\"216.0\" font-size=\"20px\" dominant-baseline=\"middle\" text-anchor=\"middle\" font-family=\"Arial\" font-weight=\"normal\" fill=\"#ffffff\" >RZ </text><text x=\"632.8\" y=\"232.0\" font-size=\"14.0px\" dominant-baseline=\"middle\" text-anchor=\"middle\" font-family=\"Arial\" font-weight=\"normal\" fill=\"#ffffff\" >0.0039 </text><rect x=\"692.8\" y=\"200.0\" width=\"80.0\" height=\"40\" rx=\"4\" ry=\"4\" stroke=\"#ffffff\" stroke-width=\"0\" fill=\"#fac209\" fill-opacity=\"1\" /><text x=\"732.8\" y=\"216.0\" font-size=\"20px\" dominant-baseline=\"middle\" text-anchor=\"middle\" font-family=\"Arial\" font-weight=\"normal\" fill=\"#ffffff\" >RX </text><text x=\"732.8\" y=\"232.0\" font-size=\"14.0px\" dominant-baseline=\"middle\" text-anchor=\"middle\" font-family=\"Arial\" font-weight=\"normal\" fill=\"#ffffff\" >0.0074 </text><rect x=\"492.8\" y=\"260.0\" width=\"80.0\" height=\"40\" rx=\"4\" ry=\"4\" stroke=\"#ffffff\" stroke-width=\"0\" fill=\"#fac209\" fill-opacity=\"1\" /><text x=\"532.8\" y=\"276.0\" font-size=\"20px\" dominant-baseline=\"middle\" text-anchor=\"middle\" font-family=\"Arial\" font-weight=\"normal\" fill=\"#ffffff\" >RX </text><text x=\"532.8\" y=\"292.0\" font-size=\"14.0px\" dominant-baseline=\"middle\" text-anchor=\"middle\" font-family=\"Arial\" font-weight=\"normal\" fill=\"#ffffff\" >-0.0045 </text><rect x=\"592.8\" y=\"260.0\" width=\"80.0\" height=\"40\" rx=\"4\" ry=\"4\" stroke=\"#ffffff\" stroke-width=\"0\" fill=\"#fac209\" fill-opacity=\"1\" /><text x=\"632.8\" y=\"276.0\" font-size=\"20px\" dominant-baseline=\"middle\" text-anchor=\"middle\" font-family=\"Arial\" font-weight=\"normal\" fill=\"#ffffff\" >RZ </text><text x=\"632.8\" y=\"292.0\" font-size=\"14.0px\" dominant-baseline=\"middle\" text-anchor=\"middle\" font-family=\"Arial\" font-weight=\"normal\" fill=\"#ffffff\" >0.0178 </text><rect x=\"692.8\" y=\"260.0\" width=\"80.0\" height=\"40\" rx=\"4\" ry=\"4\" stroke=\"#ffffff\" stroke-width=\"0\" fill=\"#fac209\" fill-opacity=\"1\" /><text x=\"732.8\" y=\"276.0\" font-size=\"20px\" dominant-baseline=\"middle\" text-anchor=\"middle\" font-family=\"Arial\" font-weight=\"normal\" fill=\"#ffffff\" >RX </text><text x=\"732.8\" y=\"292.0\" font-size=\"14.0px\" dominant-baseline=\"middle\" text-anchor=\"middle\" font-family=\"Arial\" font-weight=\"normal\" fill=\"#ffffff\" >-0.0032 </text><rect x=\"492.8\" y=\"320.0\" width=\"80.0\" height=\"40\" rx=\"4\" ry=\"4\" stroke=\"#ffffff\" stroke-width=\"0\" fill=\"#fac209\" fill-opacity=\"1\" /><text x=\"532.8\" y=\"336.0\" font-size=\"20px\" dominant-baseline=\"middle\" text-anchor=\"middle\" font-family=\"Arial\" font-weight=\"normal\" fill=\"#ffffff\" >RX </text><text x=\"532.8\" y=\"352.0\" font-size=\"14.0px\" dominant-baseline=\"middle\" text-anchor=\"middle\" font-family=\"Arial\" font-weight=\"normal\" fill=\"#ffffff\" >-0.2707 </text><rect x=\"592.8\" y=\"320.0\" width=\"80.0\" height=\"40\" rx=\"4\" ry=\"4\" stroke=\"#ffffff\" stroke-width=\"0\" fill=\"#fac209\" fill-opacity=\"1\" /><text x=\"632.8\" y=\"336.0\" font-size=\"20px\" dominant-baseline=\"middle\" text-anchor=\"middle\" font-family=\"Arial\" font-weight=\"normal\" fill=\"#ffffff\" >RZ </text><text x=\"632.8\" y=\"352.0\" font-size=\"14.0px\" dominant-baseline=\"middle\" text-anchor=\"middle\" font-family=\"Arial\" font-weight=\"normal\" fill=\"#ffffff\" >-1.1779 </text><rect x=\"692.8\" y=\"320.0\" width=\"80.0\" height=\"40\" rx=\"4\" ry=\"4\" stroke=\"#ffffff\" stroke-width=\"0\" fill=\"#fac209\" fill-opacity=\"1\" /><text x=\"732.8\" y=\"336.0\" font-size=\"20px\" dominant-baseline=\"middle\" text-anchor=\"middle\" font-family=\"Arial\" font-weight=\"normal\" fill=\"#ffffff\" >RX </text><text x=\"732.8\" y=\"352.0\" font-size=\"14.0px\" dominant-baseline=\"middle\" text-anchor=\"middle\" font-family=\"Arial\" font-weight=\"normal\" fill=\"#ffffff\" >0.6154 </text><rect x=\"492.8\" y=\"380.0\" width=\"80.0\" height=\"40\" rx=\"4\" ry=\"4\" stroke=\"#ffffff\" stroke-width=\"0\" fill=\"#fac209\" fill-opacity=\"1\" /><text x=\"532.8\" y=\"396.0\" font-size=\"20px\" dominant-baseline=\"middle\" text-anchor=\"middle\" font-family=\"Arial\" font-weight=\"normal\" fill=\"#ffffff\" >RX </text><text x=\"532.8\" y=\"412.0\" font-size=\"14.0px\" dominant-baseline=\"middle\" text-anchor=\"middle\" font-family=\"Arial\" font-weight=\"normal\" fill=\"#ffffff\" >0.6919 </text><rect x=\"592.8\" y=\"380.0\" width=\"80.0\" height=\"40\" rx=\"4\" ry=\"4\" stroke=\"#ffffff\" stroke-width=\"0\" fill=\"#fac209\" fill-opacity=\"1\" /><text x=\"632.8\" y=\"396.0\" font-size=\"20px\" dominant-baseline=\"middle\" text-anchor=\"middle\" font-family=\"Arial\" font-weight=\"normal\" fill=\"#ffffff\" >RZ </text><text x=\"632.8\" y=\"412.0\" font-size=\"14.0px\" dominant-baseline=\"middle\" text-anchor=\"middle\" font-family=\"Arial\" font-weight=\"normal\" fill=\"#ffffff\" >0.0339 </text><rect x=\"692.8\" y=\"380.0\" width=\"80.0\" height=\"40\" rx=\"4\" ry=\"4\" stroke=\"#ffffff\" stroke-width=\"0\" fill=\"#fac209\" fill-opacity=\"1\" /><text x=\"732.8\" y=\"396.0\" font-size=\"20px\" dominant-baseline=\"middle\" text-anchor=\"middle\" font-family=\"Arial\" font-weight=\"normal\" fill=\"#ffffff\" >RX </text><text x=\"732.8\" y=\"412.0\" font-size=\"14.0px\" dominant-baseline=\"middle\" text-anchor=\"middle\" font-family=\"Arial\" font-weight=\"normal\" fill=\"#ffffff\" >0.8858 </text><rect x=\"432.8\" y=\"440.0\" width=\"80.0\" height=\"40\" rx=\"4\" ry=\"4\" stroke=\"#ffffff\" stroke-width=\"0\" fill=\"#fac209\" fill-opacity=\"1\" /><text x=\"472.8\" y=\"456.0\" font-size=\"20px\" dominant-baseline=\"middle\" text-anchor=\"middle\" font-family=\"Arial\" font-weight=\"normal\" fill=\"#ffffff\" >RX </text><text x=\"472.8\" y=\"472.0\" font-size=\"14.0px\" dominant-baseline=\"middle\" text-anchor=\"middle\" font-family=\"Arial\" font-weight=\"normal\" fill=\"#ffffff\" >-0.009 </text><rect x=\"532.8\" y=\"440.0\" width=\"80.0\" height=\"40\" rx=\"4\" ry=\"4\" stroke=\"#ffffff\" stroke-width=\"0\" fill=\"#fac209\" fill-opacity=\"1\" /><text x=\"572.8\" y=\"456.0\" font-size=\"20px\" dominant-baseline=\"middle\" text-anchor=\"middle\" font-family=\"Arial\" font-weight=\"normal\" fill=\"#ffffff\" >RZ </text><text x=\"572.8\" y=\"472.0\" font-size=\"14.0px\" dominant-baseline=\"middle\" text-anchor=\"middle\" font-family=\"Arial\" font-weight=\"normal\" fill=\"#ffffff\" >-1.5638 </text><rect x=\"632.8\" y=\"440.0\" width=\"80.0\" height=\"40\" rx=\"4\" ry=\"4\" stroke=\"#ffffff\" stroke-width=\"0\" fill=\"#fac209\" fill-opacity=\"1\" /><text x=\"672.8\" y=\"456.0\" font-size=\"20px\" dominant-baseline=\"middle\" text-anchor=\"middle\" font-family=\"Arial\" font-weight=\"normal\" fill=\"#ffffff\" >RX </text><text x=\"672.8\" y=\"472.0\" font-size=\"14.0px\" dominant-baseline=\"middle\" text-anchor=\"middle\" font-family=\"Arial\" font-weight=\"normal\" fill=\"#ffffff\" >-0.3577 </text><circle cx=\"812.8\" cy=\"40.0\" r=\"4\" fill=\"#5e7ce0\" /><line x1=\"812.8\" x2=\"812.8\" y1=\"40.0\" y2=\"100.0\" stroke=\"#5e7ce0\" stroke-width=\"3\" /><rect x=\"792.8\" y=\"80.0\" width=\"40.0\" height=\"40\" rx=\"4\" ry=\"4\" stroke=\"#ffffff\" stroke-width=\"0\" fill=\"#5e7ce0\" fill-opacity=\"1\" /><text x=\"812.8\" y=\"100.0\" font-size=\"20px\" dominant-baseline=\"middle\" text-anchor=\"middle\" font-family=\"Arial\" font-weight=\"normal\" fill=\"#ffffff\" >Z </text><circle cx=\"812.8\" cy=\"160.0\" r=\"4\" fill=\"#5e7ce0\" /><line x1=\"812.8\" x2=\"812.8\" y1=\"160.0\" y2=\"220.0\" stroke=\"#5e7ce0\" stroke-width=\"3\" /><rect x=\"792.8\" y=\"200.0\" width=\"40.0\" height=\"40\" rx=\"4\" ry=\"4\" stroke=\"#ffffff\" stroke-width=\"0\" fill=\"#5e7ce0\" fill-opacity=\"1\" /><text x=\"812.8\" y=\"220.0\" font-size=\"20px\" dominant-baseline=\"middle\" text-anchor=\"middle\" font-family=\"Arial\" font-weight=\"normal\" fill=\"#ffffff\" >Z </text><circle cx=\"812.8\" cy=\"280.0\" r=\"4\" fill=\"#5e7ce0\" /><line x1=\"812.8\" x2=\"812.8\" y1=\"280.0\" y2=\"340.0\" stroke=\"#5e7ce0\" stroke-width=\"3\" /><rect x=\"792.8\" y=\"320.0\" width=\"40.0\" height=\"40\" rx=\"4\" ry=\"4\" stroke=\"#ffffff\" stroke-width=\"0\" fill=\"#5e7ce0\" fill-opacity=\"1\" /><text x=\"812.8\" y=\"340.0\" font-size=\"20px\" dominant-baseline=\"middle\" text-anchor=\"middle\" font-family=\"Arial\" font-weight=\"normal\" fill=\"#ffffff\" >Z </text><circle cx=\"812.8\" cy=\"400.0\" r=\"4\" fill=\"#5e7ce0\" /><line x1=\"812.8\" x2=\"812.8\" y1=\"400.0\" y2=\"460.0\" stroke=\"#5e7ce0\" stroke-width=\"3\" /><rect x=\"792.8\" y=\"440.0\" width=\"40.0\" height=\"40\" rx=\"4\" ry=\"4\" stroke=\"#ffffff\" stroke-width=\"0\" fill=\"#5e7ce0\" fill-opacity=\"1\" /><text x=\"812.8\" y=\"460.0\" font-size=\"20px\" dominant-baseline=\"middle\" text-anchor=\"middle\" font-family=\"Arial\" font-weight=\"normal\" fill=\"#ffffff\" >Z </text><circle cx=\"872.8\" cy=\"100.0\" r=\"4\" fill=\"#5e7ce0\" /><line x1=\"872.8\" x2=\"872.8\" y1=\"100.0\" y2=\"160.0\" stroke=\"#5e7ce0\" stroke-width=\"3\" /><rect x=\"852.8\" y=\"140.0\" width=\"40.0\" height=\"40\" rx=\"4\" ry=\"4\" stroke=\"#ffffff\" stroke-width=\"0\" fill=\"#5e7ce0\" fill-opacity=\"1\" /><text x=\"872.8\" y=\"160.0\" font-size=\"20px\" dominant-baseline=\"middle\" text-anchor=\"middle\" font-family=\"Arial\" font-weight=\"normal\" fill=\"#ffffff\" >Z </text><circle cx=\"872.8\" cy=\"220.0\" r=\"4\" fill=\"#5e7ce0\" /><line x1=\"872.8\" x2=\"872.8\" y1=\"220.0\" y2=\"280.0\" stroke=\"#5e7ce0\" stroke-width=\"3\" /><rect x=\"852.8\" y=\"260.0\" width=\"40.0\" height=\"40\" rx=\"4\" ry=\"4\" stroke=\"#ffffff\" stroke-width=\"0\" fill=\"#5e7ce0\" fill-opacity=\"1\" /><text x=\"872.8\" y=\"280.0\" font-size=\"20px\" dominant-baseline=\"middle\" text-anchor=\"middle\" font-family=\"Arial\" font-weight=\"normal\" fill=\"#ffffff\" >Z </text><circle cx=\"872.8\" cy=\"340.0\" r=\"4\" fill=\"#5e7ce0\" /><line x1=\"872.8\" x2=\"872.8\" y1=\"340.0\" y2=\"400.0\" stroke=\"#5e7ce0\" stroke-width=\"3\" /><rect x=\"852.8\" y=\"380.0\" width=\"40.0\" height=\"40\" rx=\"4\" ry=\"4\" stroke=\"#ffffff\" stroke-width=\"0\" fill=\"#5e7ce0\" fill-opacity=\"1\" /><text x=\"872.8\" y=\"400.0\" font-size=\"20px\" dominant-baseline=\"middle\" text-anchor=\"middle\" font-family=\"Arial\" font-weight=\"normal\" fill=\"#ffffff\" >Z </text></svg>"
      ],
      "text/plain": [
       "<mindquantum.io.display.circuit_svg_drawer.SVGCircuit at 0x7f32c06a1eb0>"
      ]
     },
     "execution_count": 18,
     "metadata": {},
     "output_type": "execute_result"
    }
   ],
   "source": [
    "pr_ansatz = dict(zip(ansatz.params_name, Qnet.weight.asnumpy()))  # 获取线路参数\n",
    "print('pr_ansatz = ', pr_ansatz)\n",
    "\n",
    "ansatz_ = ansatz.apply_value(pr_ansatz)\n",
    "U = ansatz_.matrix()\n",
    "ansatz_.svg()"
   ]
  },
  {
   "cell_type": "code",
   "execution_count": 19,
   "metadata": {},
   "outputs": [],
   "source": [
    "from mindquantum.core.gates import I, Z\n",
    "\n",
    "def mat_m(qubit_num):\n",
    "    M_0 = np.kron(I.matrix(), Z.matrix())\n",
    "    M_1 = np.kron(Z.matrix(), I.matrix())\n",
    "    for i in range(qubit_num - 2):\n",
    "        M_0 = np.kron(M_0, I.matrix())\n",
    "        M_1 = np.kron(M_1, I.matrix())\n",
    "\n",
    "    return M_0 - M_1\n",
    "\n",
    "M = mat_m(8)"
   ]
  },
  {
   "cell_type": "code",
   "execution_count": 15,
   "metadata": {},
   "outputs": [
    {
     "name": "stdout",
     "output_type": "stream",
     "text": [
      "100\n",
      "[0 0 0 1 0 0 0 0 1 1 0 0 1 0 0 0 0 1 1 0 0 0 1 0 0 0 1 1 1 0 0 0 1 1 1 0 1\n",
      " 1 1 0 1 0 1 0 1 0 0 0 0 0 1 0 0 1 0 1 0 1 0 0 1 1 0 1 1 0 1 1 0 0 0 1 1 0\n",
      " 0 1 0 0 0 1 0 0 1 0 0 1 1 0 0 1 1 0 1 0 0 1 1 1 0 0]\n"
     ]
    }
   ],
   "source": [
    "X_train = [data[0] for data in train_loader]\n",
    "y_train = [data[1] for data in train_loader]\n",
    "# X_train = X_train[0]  # 一个batch, 即100个样本点\n",
    "# y_train = y_train[0]\n",
    "# print(len(X_train))\n",
    "# print(y_train)"
   ]
  },
  {
   "cell_type": "code",
   "execution_count": 12,
   "metadata": {},
   "outputs": [],
   "source": [
    "X_test = [data[0] for data in test_loader]\n",
    "y_test = [data[1] for data in test_loader]\n",
    "# X_test = X_test[0]  # 一个batch, 即100个样本点\n",
    "# y_test = y_test[0]\n",
    "# print(X_train)\n",
    "# print(y_train)"
   ]
  },
  {
   "cell_type": "code",
   "execution_count": 21,
   "metadata": {},
   "outputs": [],
   "source": [
    "def logistic(x):\n",
    "    return 1 / (1 + np.exp(-x))"
   ]
  },
  {
   "cell_type": "code",
   "execution_count": 13,
   "metadata": {},
   "outputs": [
    {
     "name": "stdout",
     "output_type": "stream",
     "text": [
      "tr1.0000000000000004\n",
      "tr0.9999999999999998\n",
      "tr1.0000000000000002\n",
      "tr1.0000000000000004\n",
      "tr1.0000000000000002\n",
      "tr0.9999999999999998\n",
      "tr1.0000000000000002\n",
      "tr0.9999999999999999\n",
      "tr1.0\n",
      "tr1.0\n",
      "tr0.9999999999999997\n",
      "tr0.9999999999999998\n",
      "tr0.9999999999999999\n",
      "tr0.9999999999999998\n",
      "tr0.9999999999999998\n",
      "tr1.0\n",
      "tr1.0\n",
      "tr0.9999999999999998\n",
      "tr1.0000000000000002\n",
      "tr0.9999999999999999\n",
      "tr0.9999999999999999\n",
      "tr1.0\n",
      "tr1.0\n",
      "tr0.9999999999999999\n",
      "tr0.9999999999999999\n",
      "tr1.0\n",
      "tr1.0\n",
      "tr0.9999999999999998\n",
      "tr1.0\n",
      "tr1.0\n",
      "tr0.9999999999999996\n",
      "tr1.0\n",
      "tr1.0\n",
      "tr1.0\n",
      "tr0.9999999999999998\n",
      "tr1.0\n",
      "tr1.0000000000000002\n",
      "tr1.0\n",
      "tr1.0\n",
      "tr1.0\n",
      "tr1.0000000000000002\n",
      "tr1.0\n",
      "tr1.0\n",
      "tr1.0000000000000002\n",
      "tr0.9999999999999998\n",
      "tr0.9999999999999999\n",
      "tr0.9999999999999999\n",
      "tr0.9999999999999998\n",
      "tr1.0\n",
      "tr0.9999999999999998\n",
      "tr1.0\n",
      "tr1.0\n",
      "tr0.9999999999999999\n",
      "tr0.9999999999999998\n",
      "tr1.0000000000000002\n",
      "tr1.0000000000000004\n",
      "tr1.0\n",
      "tr1.0000000000000004\n",
      "tr1.0000000000000002\n",
      "tr1.0\n",
      "tr1.0\n",
      "tr1.0000000000000004\n",
      "tr1.0\n",
      "tr1.0000000000000002\n",
      "tr0.9999999999999996\n",
      "tr1.0\n",
      "tr1.0\n",
      "tr1.0000000000000004\n",
      "tr0.9999999999999998\n",
      "tr0.9999999999999998\n",
      "tr0.9999999999999999\n",
      "tr1.0\n",
      "tr1.0\n",
      "tr1.0000000000000002\n",
      "tr0.9999999999999998\n",
      "tr1.0\n",
      "tr1.0000000000000002\n",
      "tr1.0\n",
      "tr1.0\n",
      "tr1.0000000000000004\n",
      "tr1.0\n",
      "tr1.0\n",
      "tr0.9999999999999998\n",
      "tr1.0\n",
      "tr1.0\n",
      "tr0.9999999999999997\n",
      "tr1.0\n",
      "tr0.9999999999999996\n",
      "tr1.0\n",
      "tr0.9999999999999998\n",
      "tr1.0\n",
      "tr1.0\n",
      "tr0.9999999999999998\n",
      "tr0.9999999999999996\n",
      "tr1.0\n",
      "tr0.9999999999999998\n",
      "tr1.0\n",
      "tr1.0\n",
      "tr0.9999999999999996\n",
      "tr1.0\n",
      "tr1.0000000000000004\n",
      "tr1.0\n",
      "tr1.0\n",
      "tr0.9999999999999998\n",
      "tr0.9999999999999999\n",
      "tr0.9999999999999999\n",
      "tr1.0000000000000002\n",
      "tr1.0\n",
      "tr1.0000000000000002\n",
      "tr1.0000000000000002\n",
      "tr1.0\n",
      "tr1.0\n",
      "tr0.9999999999999998\n",
      "tr0.9999999999999998\n",
      "tr1.0\n",
      "tr1.0\n",
      "tr1.0\n",
      "tr0.9999999999999998\n",
      "tr0.9999999999999998\n",
      "tr1.0\n",
      "tr0.9999999999999998\n",
      "tr0.9999999999999997\n",
      "tr1.0000000000000002\n",
      "tr1.0\n",
      "tr1.0000000000000002\n",
      "tr1.0\n",
      "tr1.0\n",
      "tr1.0\n",
      "tr0.9999999999999997\n",
      "tr1.0000000000000002\n",
      "tr1.0\n",
      "tr1.0000000000000002\n",
      "tr0.9999999999999998\n",
      "tr1.0000000000000002\n",
      "tr1.0\n",
      "tr0.9999999999999999\n",
      "tr1.0\n",
      "tr1.0\n",
      "tr0.9999999999999999\n",
      "tr1.0000000000000002\n",
      "tr1.0\n",
      "tr0.9999999999999993\n",
      "tr1.0000000000000002\n",
      "tr1.0000000000000004\n",
      "tr1.0\n",
      "tr0.9999999999999999\n",
      "tr1.0000000000000002\n",
      "tr1.0\n",
      "tr1.0000000000000002\n",
      "tr0.9999999999999997\n",
      "tr1.0\n",
      "tr0.9999999999999998\n",
      "tr1.0\n",
      "tr1.0000000000000004\n",
      "tr1.0\n",
      "tr1.0\n",
      "tr0.9999999999999998\n",
      "tr1.0\n",
      "tr1.0\n",
      "tr1.0\n",
      "tr1.0\n",
      "tr1.0\n",
      "tr1.0000000000000004\n",
      "tr1.0000000000000002\n",
      "tr0.9999999999999999\n",
      "tr1.0\n",
      "tr0.9999999999999998\n",
      "tr1.0\n",
      "tr1.0\n",
      "tr1.0\n",
      "tr1.0000000000000004\n",
      "tr0.9999999999999998\n",
      "tr0.9999999999999998\n",
      "tr0.9999999999999999\n",
      "tr1.0\n",
      "tr1.0\n",
      "tr1.0\n",
      "tr1.0000000000000002\n",
      "tr1.0\n",
      "tr1.0\n",
      "tr0.9999999999999996\n",
      "tr1.0\n",
      "tr1.0000000000000002\n",
      "tr1.0\n",
      "tr1.0\n",
      "tr0.9999999999999999\n",
      "tr1.0\n",
      "tr0.9999999999999999\n",
      "tr1.0\n",
      "tr1.0000000000000004\n",
      "tr1.0\n",
      "tr0.9999999999999998\n",
      "tr1.0\n",
      "tr0.9999999999999998\n",
      "tr0.9999999999999999\n",
      "tr0.9999999999999997\n",
      "tr1.0\n",
      "tr1.0\n",
      "tr0.9999999999999999\n",
      "tr1.0\n",
      "ok\n"
     ]
    }
   ],
   "source": [
    "predict_by_measure = []\n",
    "predict_by_prob = []\n",
    "predict_by_expectation = []\n",
    "for i in range(2):\n",
    "    X_test_ = X_test[i]  # 一个batch, 即100个样本点\n",
    "    y_test_ = y_test[i]\n",
    "    for sample in X_test_:\n",
    "        pr_encoder = dict(zip(encoder.params_name, sample.tolist()))  # 获取线路参数\n",
    "        # print('pr_encoder = ', pr_encoder)\n",
    "    \n",
    "        encoder_ = encoder.apply_value(pr_encoder)\n",
    "        rho = encoder_.get_qs(backend='mqmatrix')\n",
    "\n",
    "        tr = np.real(np.trace(rho @ rho))\n",
    "        print(\"tr = {}\".format(tr))\n",
    "        # circuit_ = encoder_ + ansatz_\n",
    "        # sim_ = Simulator('mqvector', circuit_.n_qubits)\n",
    "        # sim_.apply_circuit(circuit_)\n",
    "        # m1 = np.real(sim_.get_expectation(meas[0]))\n",
    "        # m2 = np.real(sim_.get_expectation(meas[1]))\n",
    "        # # print('m1 = ', m1)\n",
    "        # # print('m2 = ', m2)\n",
    "        # if m1 > m2:\n",
    "        #     predict_by_expectation.append(0)\n",
    "        # else:\n",
    "        #     predict_by_expectation.append(1)\n",
    "    \n",
    "    #     m = np.real(np.trace(U.conj().T @ M @ U @ rho))\n",
    "    #     if m > 0:\n",
    "    #         predict_by_measure.append(0)\n",
    "    #     else:\n",
    "    #         predict_by_measure.append(1)\n",
    "    \n",
    "    #     p0 = logistic(m)\n",
    "    #     p1 = 1 - p0\n",
    "    #     if p0 > p1:\n",
    "    #         predict_by_prob.append(0)\n",
    "    #     else:\n",
    "    #         predict_by_prob.append(1)\n",
    "\n",
    "\n",
    "            \n",
    "    # for j in range(len(y_test_)):\n",
    "    #     if predict_by_measure[j + i*100] != y_test_[j]:\n",
    "    #         print(\"the {}th sample prediction error\".format(j + 1 + i*100))\n",
    "    #         print('(measure) predict: ', predict_by_measure[j + i*100])\n",
    "    #         print('actual: ', y_test_[j])\n",
    "    #     if predict_by_prob[j + i*100] != y_test_[j]:\n",
    "    #         print(\"the {}th sample prediction error\".format(j + 1 + i*100))\n",
    "    #         print('(prob) predict: ', predict_by_prob[j + i*100])\n",
    "    #         print('actual: ', y_test_[j])\n",
    "    #         print()\n",
    "\n",
    "    # print('predict_by_expectation: ', predict_by_expectation)\n",
    "    # print('actual y_train: ', y_test_)\n",
    "\n",
    "print(\"ok\")"
   ]
  },
  {
   "cell_type": "code",
   "execution_count": null,
   "metadata": {},
   "outputs": [],
   "source": []
  }
 ],
 "metadata": {
  "kernelspec": {
   "display_name": "Python 3 (ipykernel)",
   "language": "python",
   "name": "python3"
  },
  "language_info": {
   "codemirror_mode": {
    "name": "ipython",
    "version": 3
   },
   "file_extension": ".py",
   "mimetype": "text/x-python",
   "name": "python",
   "nbconvert_exporter": "python",
   "pygments_lexer": "ipython3",
   "version": "3.8.0"
  },
  "vscode": {
   "interpreter": {
    "hash": "d978e6baa1e26ab86251e765739ce2687cc7d01a83dd10a2a25d51a26c4053f6"
   }
  }
 },
 "nbformat": 4,
 "nbformat_minor": 4
}
