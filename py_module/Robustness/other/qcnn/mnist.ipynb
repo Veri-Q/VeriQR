{
 "cells": [
  {
   "cell_type": "code",
   "execution_count": null,
   "metadata": {},
   "outputs": [],
   "source": [
    "from qcnn import qcnn\n",
    "import numpy as np\n",
    "import jax.numpy as jnp\n",
    "from PIL import Image\n",
    "from sklearn.datasets import fetch_openml\n",
    "from jax.numpy.linalg import norm"
   ]
  },
  {
   "cell_type": "code",
   "execution_count": null,
   "metadata": {},
   "outputs": [],
   "source": [
    "normalize = lambda v: v/norm(v)\n",
    "\n",
    "def convert_to_qcnn_data(data):\n",
    "    n = data.shape[0]\n",
    "    return jnp.array([normalize(jnp.array(Image.fromarray(data[j].reshape(28,28)).resize((16,16))).reshape((256))) for j in range(n)])"
   ]
  },
  {
   "cell_type": "code",
   "execution_count": null,
   "metadata": {},
   "outputs": [],
   "source": [
    "digits = fetch_openml('mnist_784')"
   ]
  },
  {
   "cell_type": "code",
   "execution_count": null,
   "metadata": {},
   "outputs": [],
   "source": [
    "d0, d1 = '1', '7'\n",
    "ind0, ind1 = digits.target == d0, digits.target == d1\n",
    "x0, x1 = digits.data[ind0].to_numpy(), digits.data[ind1].to_numpy()\n",
    "y0, y1 = (digits.target[ind0] == d0).to_numpy(), (digits.target[ind1] == d0).to_numpy()\n",
    "\n",
    "n_train = 500\n",
    "n_all = 700\n",
    "\n",
    "ind0, ind1 = np.random.permutation(x0.shape[0])[:n_all], np.random.permutation(x1.shape[0])[:n_all]\n",
    "\n",
    "x_train = convert_to_qcnn_data(np.vstack((x0[ind0[:n_train]], x1[ind1[:n_train]])))\n",
    "y_train = jnp.array(np.hstack((y0[ind0[:n_train]], y1[ind1[:n_train]])))\n",
    "print(y_train)\n",
    "x_test = convert_to_qcnn_data(np.vstack((x0[ind0[n_train:n_all]], x1[ind1[n_train:n_all]])))\n",
    "y_test = jnp.array(np.hstack((y0[ind0[n_train:n_all]], y1[ind1[n_train:n_all]])))"
   ]
  },
  {
   "cell_type": "code",
   "execution_count": null,
   "metadata": {},
   "outputs": [],
   "source": [
    "model = qcnn(8)"
   ]
  },
  {
   "cell_type": "code",
   "execution_count": null,
   "metadata": {},
   "outputs": [],
   "source": [
    "model.train(x_train, y_train, x_test, y_test)"
   ]
  },
  {
   "cell_type": "code",
   "execution_count": null,
   "metadata": {},
   "outputs": [],
   "source": [
    "print(model.to_qasm())"
   ]
  },
  {
   "cell_type": "code",
   "execution_count": null,
   "metadata": {},
   "outputs": [],
   "source": []
  }
 ],
 "metadata": {
  "kernelspec": {
   "display_name": "Python 3 (ipykernel)",
   "language": "python",
   "name": "python3"
  },
  "language_info": {
   "codemirror_mode": {
    "name": "ipython",
    "version": 3
   },
   "file_extension": ".py",
   "mimetype": "text/x-python",
   "name": "python",
   "nbconvert_exporter": "python",
   "pygments_lexer": "ipython3",
   "version": "3.8.18"
  }
 },
 "nbformat": 4,
 "nbformat_minor": 4
}
